{
 "cells": [
  {
   "cell_type": "markdown",
   "metadata": {},
   "source": [
    "## Installing emails package from PyPI"
   ]
  },
  {
   "cell_type": "code",
   "execution_count": 1,
   "metadata": {},
   "outputs": [
    {
     "name": "stdout",
     "output_type": "stream",
     "text": [
      "Collecting emails\n",
      "  Downloading emails-0.6-py2.py3-none-any.whl (56 kB)\n",
      "Collecting premailer\n",
      "  Downloading premailer-3.7.0-py2.py3-none-any.whl (18 kB)\n",
      "Requirement already satisfied: python-dateutil in f:\\nesha\\anaconda3\\lib\\site-packages (from emails) (2.8.1)\n",
      "Requirement already satisfied: chardet in f:\\nesha\\anaconda3\\lib\\site-packages (from emails) (3.0.4)\n",
      "Collecting cssutils\n",
      "  Downloading cssutils-1.0.2-py3-none-any.whl (406 kB)\n",
      "Requirement already satisfied: lxml in f:\\nesha\\anaconda3\\lib\\site-packages (from emails) (4.6.1)\n",
      "Requirement already satisfied: requests in f:\\nesha\\anaconda3\\lib\\site-packages (from emails) (2.24.0)\n",
      "Collecting cssselect\n",
      "  Downloading cssselect-1.1.0-py2.py3-none-any.whl (16 kB)\n",
      "Collecting cachetools\n",
      "  Downloading cachetools-4.2.0-py3-none-any.whl (12 kB)\n",
      "Requirement already satisfied: six>=1.5 in f:\\nesha\\anaconda3\\lib\\site-packages (from python-dateutil->emails) (1.15.0)\n",
      "Requirement already satisfied: urllib3!=1.25.0,!=1.25.1,<1.26,>=1.21.1 in f:\\nesha\\anaconda3\\lib\\site-packages (from requests->emails) (1.25.11)\n",
      "Requirement already satisfied: certifi>=2017.4.17 in f:\\nesha\\anaconda3\\lib\\site-packages (from requests->emails) (2020.6.20)\n",
      "Requirement already satisfied: idna<3,>=2.5 in f:\\nesha\\anaconda3\\lib\\site-packages (from requests->emails) (2.10)\n",
      "Installing collected packages: cssselect, cachetools, cssutils, premailer, emails\n",
      "Successfully installed cachetools-4.2.0 cssselect-1.1.0 cssutils-1.0.2 emails-0.6 premailer-3.7.0\n"
     ]
    }
   ],
   "source": [
    "!pip install emails"
   ]
  },
  {
   "cell_type": "code",
   "execution_count": 22,
   "metadata": {},
   "outputs": [],
   "source": [
    "import emails\n",
    "html_text = '''<p>Hey Guys,</p>\n",
    "<p>This is to inform you that your class have been postponed for today.</p>\n",
    "<p><br></p>\n",
    "<p>Thank You.</p>\n",
    "<p>Regards.</p>'''\n",
    "\n",
    "\n",
    "message = emails.html(html=html_text,\n",
    "                          subject=\"Your EMAIL FROM PYTHON SCRIPT\",\n",
    "                          mail_from=('Python class', 'ssa@xyz.com'))\n"
   ]
  },
  {
   "cell_type": "code",
   "execution_count": 23,
   "metadata": {},
   "outputs": [],
   "source": [
    "send_email=message.send(to='sehiro2836@cctyoo.com'\n",
    "                        ,smtp={'host': 'smtp.gmail.com', 'timeout': 5\n",
    "                        ,'port' : 587\n",
    "                        ,'user' : 'XXXX6@gmail.com'\n",
    "                        , 'password' : 'XXXXX'\n",
    "                        ,'tls' : True\n",
    "                              })\n",
    "\n",
    "                        "
   ]
  },
  {
   "cell_type": "code",
   "execution_count": 24,
   "metadata": {},
   "outputs": [
    {
     "data": {
      "text/plain": [
       "<emails.backend.SMTPResponse status_code=250 status_text=b'2.0.0 OK  1608306576 ck20sm8235806pjb.20 - gsmtp'>"
      ]
     },
     "execution_count": 24,
     "metadata": {},
     "output_type": "execute_result"
    }
   ],
   "source": [
    "send_email"
   ]
  },
  {
   "cell_type": "code",
   "execution_count": 25,
   "metadata": {},
   "outputs": [],
   "source": [
    "def sendmail_info(email,name) :\n",
    "    \n",
    "            html_text='''<p>Hey Guys,</p>\n",
    "<p>This is to inform you that your class have been postponed for today.</p>\n",
    "<p><br></p>\n",
    "<p>Thank You.</p>\n",
    "<p>Regards.</p>'''\n",
    "        \n",
    "               \n",
    "            subject = \"Hey \"+ name + \", you have EMAIL FROM Python Class\"\n",
    "            message = emails.html(html=html_text,\n",
    "                          subject=subject,\n",
    "                          mail_from=('Python Class', 'ssa@xyz.com'))\n",
    "\n",
    "    \n",
    "            mail_via_python = message.send(to=email, \n",
    "                               smtp={'host': 'smtp.gmail.com', \n",
    "                                     'timeout': 5,\n",
    "                                    'port':587,\n",
    "                                    'user':'XXXXX@gmail.com',\n",
    "                                    'password':'XXXXX',\n",
    "                                    'tls':True})\n",
    "                \n",
    "                \n",
    "            return mail_via_python.status_code          "
   ]
  },
  {
   "cell_type": "code",
   "execution_count": 26,
   "metadata": {},
   "outputs": [
    {
     "data": {
      "text/plain": [
       "250"
      ]
     },
     "execution_count": 26,
     "metadata": {},
     "output_type": "execute_result"
    }
   ],
   "source": [
    "sendmail_info(\"sehiro2836@cctyoo.com\",\"Prajakta\")"
   ]
  }
 ],
 "metadata": {
  "kernelspec": {
   "display_name": "Python 3",
   "language": "python",
   "name": "python3"
  },
  "language_info": {
   "codemirror_mode": {
    "name": "ipython",
    "version": 3
   },
   "file_extension": ".py",
   "mimetype": "text/x-python",
   "name": "python",
   "nbconvert_exporter": "python",
   "pygments_lexer": "ipython3",
   "version": "3.8.5"
  }
 },
 "nbformat": 4,
 "nbformat_minor": 4
}
